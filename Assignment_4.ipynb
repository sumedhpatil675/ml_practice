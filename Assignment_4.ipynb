{
 "cells": [
  {
   "cell_type": "markdown",
   "metadata": {},
   "source": [
    "1.1 Write a Python Program(with class concepts) to find the area of the triangle using the below formula. \n",
    " \n",
    "area = (s*(s-a)*(s-b)*(s-c)) ** 0.5 \n",
    " \n",
    "Function to take the length of the sides of triangle from user should be defined in the parent class and function to calculate the area should be defined in subclass. "
   ]
  },
  {
   "cell_type": "code",
   "execution_count": 7,
   "metadata": {},
   "outputs": [
    {
     "name": "stdout",
     "output_type": "stream",
     "text": [
      "Enter side length a: 3\n",
      "Enter side length b: 4\n",
      "Enter side length c: 5\n"
     ]
    },
    {
     "data": {
      "text/plain": [
       "6.0"
      ]
     },
     "execution_count": 7,
     "metadata": {},
     "output_type": "execute_result"
    }
   ],
   "source": [
    "import math\n",
    "class Triangle:\n",
    "    def takeLength(self,a,b,c):\n",
    "        self.a = a\n",
    "        self.b = b\n",
    "        self.c = c\n",
    "        \n",
    "        \n",
    "class FindArea(Triangle):\n",
    "    def calArea(self):\n",
    "        s = (int(self.a) + int(self.b) + int(self.c)) /2\n",
    "        area = math.sqrt(s*(s-int(self.a))*(s-int(self.b))*(s-int(self.c)))\n",
    "        return area  \n",
    "\n",
    "a = input(\"Enter side length a: \")\n",
    "b = input(\"Enter side length b: \")\n",
    "c = input(\"Enter side length c: \")        \n",
    "exp = FindArea()\n",
    "exp.takeLength(a,b,c)\n",
    "exp.calArea()\n"
   ]
  },
  {
   "cell_type": "markdown",
   "metadata": {},
   "source": [
    "1.2 Write a function filter_long_words() that takes a list of words and an integer n and returns the list of words that are longer than n. "
   ]
  },
  {
   "cell_type": "code",
   "execution_count": 18,
   "metadata": {},
   "outputs": [
    {
     "data": {
      "text/plain": [
       "['agsdg', 'sgsdss']"
      ]
     },
     "execution_count": 18,
     "metadata": {},
     "output_type": "execute_result"
    }
   ],
   "source": [
    "lst = ['gsdg','agsdg','sgsdss']\n",
    "lst2 = list()\n",
    "n=3\n",
    "def filter_long_words(lst,n):\n",
    "    for i in lst:\n",
    "        if(len(i)>n):\n",
    "            lst2.append(i)\n",
    "\n",
    "filter_long_words(lst,4)\n",
    "lst2\n",
    "    "
   ]
  },
  {
   "cell_type": "markdown",
   "metadata": {},
   "source": [
    "2.1 Write a Python program using function concept that maps list of words into a list of integers representing the lengths of the corresponding words. \n",
    " \n",
    "Hint: If a list [ ab,cde,erty] is passed on to the python function output should come as [2,3,4] \n",
    " \n",
    "Here 2,3 and 4 are the lengths of the words in the list. "
   ]
  },
  {
   "cell_type": "code",
   "execution_count": 20,
   "metadata": {},
   "outputs": [
    {
     "data": {
      "text/plain": [
       "[2, 3, 4]"
      ]
     },
     "execution_count": 20,
     "metadata": {},
     "output_type": "execute_result"
    }
   ],
   "source": [
    "lst = ['ab','cde','erty']\n",
    "lst2 = list()\n",
    "def length_cor_words(lst):\n",
    "    for i in lst:\n",
    "        lst2.append(len(i))\n",
    "    return lst2\n",
    "\n",
    "length_cor_words(lst)"
   ]
  },
  {
   "cell_type": "markdown",
   "metadata": {},
   "source": [
    "2.2 Write a Python function which takes a character (i.e. a string of length 1) and returns True if it is a vowel, False otherwise. "
   ]
  },
  {
   "cell_type": "code",
   "execution_count": 9,
   "metadata": {},
   "outputs": [
    {
     "data": {
      "text/plain": [
       "True"
      ]
     },
     "execution_count": 9,
     "metadata": {},
     "output_type": "execute_result"
    }
   ],
   "source": [
    "def vowelFinder(one_char):\n",
    "    if (one_char == 'a') or (one_char == 'e') or (one_char == 'i') or (one_char == 'o') or (one_char == 'u') :## or 'e' or 'i' or 'o' or 'u':\n",
    "        return True\n",
    "    else:\n",
    "        return False\n",
    "    \n",
    "vowelFinder('e')\n",
    "    "
   ]
  }
 ],
 "metadata": {
  "kernelspec": {
   "display_name": "Python 3",
   "language": "python",
   "name": "python3"
  },
  "language_info": {
   "codemirror_mode": {
    "name": "ipython",
    "version": 3
   },
   "file_extension": ".py",
   "mimetype": "text/x-python",
   "name": "python",
   "nbconvert_exporter": "python",
   "pygments_lexer": "ipython3",
   "version": "3.7.4"
  }
 },
 "nbformat": 4,
 "nbformat_minor": 2
}
